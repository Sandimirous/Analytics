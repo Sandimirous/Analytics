{
 "cells": [
  {
   "cell_type": "code",
   "execution_count": 164,
   "id": "12e3b78f-6a5c-4bc7-8dad-318b93067620",
   "metadata": {},
   "outputs": [],
   "source": [
    "import pandas as pd\n",
    "user_data = pd.read_csv('E:/pandas/practice_2_user_data.csv')\n",
    "logs = pd.read_csv('E:/pandas/practice_2_logs.csv')"
   ]
  },
  {
   "cell_type": "code",
   "execution_count": 10,
   "id": "9f754bf4-6f98-4697-8d00-5df520ce0599",
   "metadata": {},
   "outputs": [
    {
     "name": "stdout",
     "output_type": "stream",
     "text": [
      "<class 'pandas.core.frame.DataFrame'>\n",
      "RangeIndex: 2954 entries, 0 to 2953\n",
      "Data columns (total 3 columns):\n",
      " #   Column   Non-Null Count  Dtype\n",
      "---  ------   --------------  -----\n",
      " 0   client   2954 non-null   int64\n",
      " 1   premium  2954 non-null   bool \n",
      " 2   age      2954 non-null   int64\n",
      "dtypes: bool(1), int64(2)\n",
      "memory usage: 49.2 KB\n"
     ]
    }
   ],
   "source": [
    "user_data.info()"
   ]
  },
  {
   "cell_type": "code",
   "execution_count": 12,
   "id": "51cc4530-a04e-46c2-9c1b-b9df1bc340d5",
   "metadata": {},
   "outputs": [
    {
     "name": "stdout",
     "output_type": "stream",
     "text": [
      "<class 'pandas.core.frame.DataFrame'>\n",
      "RangeIndex: 4500 entries, 0 to 4499\n",
      "Data columns (total 4 columns):\n",
      " #   Column    Non-Null Count  Dtype \n",
      "---  ------    --------------  ----- \n",
      " 0   client    4500 non-null   int64 \n",
      " 1   success   4500 non-null   bool  \n",
      " 2   platform  4500 non-null   object\n",
      " 3   time      4500 non-null   int64 \n",
      "dtypes: bool(1), int64(2), object(1)\n",
      "memory usage: 110.0+ KB\n"
     ]
    }
   ],
   "source": [
    "logs.info()"
   ]
  },
  {
   "cell_type": "code",
   "execution_count": 166,
   "id": "ae8debcf-ab94-4122-9d33-fe30577fb856",
   "metadata": {},
   "outputs": [
    {
     "data": {
      "text/plain": [
       "<bound method IndexOpsMixin.nunique of 0          phone\n",
       "1          phone\n",
       "2          phone\n",
       "3          phone\n",
       "4       computer\n",
       "          ...   \n",
       "4495    computer\n",
       "4496       phone\n",
       "4497       phone\n",
       "4498       phone\n",
       "4499       phone\n",
       "Name: platform, Length: 4500, dtype: object>"
      ]
     },
     "execution_count": 166,
     "metadata": {},
     "output_type": "execute_result"
    }
   ],
   "source": [
    "logs.platform.nunique"
   ]
  },
  {
   "cell_type": "code",
   "execution_count": 168,
   "id": "5a5e6816-ed29-4410-8fb3-5cd2f7297470",
   "metadata": {},
   "outputs": [
    {
     "data": {
      "text/html": [
       "<div>\n",
       "<style scoped>\n",
       "    .dataframe tbody tr th:only-of-type {\n",
       "        vertical-align: middle;\n",
       "    }\n",
       "\n",
       "    .dataframe tbody tr th {\n",
       "        vertical-align: top;\n",
       "    }\n",
       "\n",
       "    .dataframe thead th {\n",
       "        text-align: right;\n",
       "    }\n",
       "</style>\n",
       "<table border=\"1\" class=\"dataframe\">\n",
       "  <thead>\n",
       "    <tr style=\"text-align: right;\">\n",
       "      <th></th>\n",
       "      <th>client</th>\n",
       "      <th>success</th>\n",
       "    </tr>\n",
       "  </thead>\n",
       "  <tbody>\n",
       "    <tr>\n",
       "      <th>468</th>\n",
       "      <td>12179</td>\n",
       "      <td>41</td>\n",
       "    </tr>\n",
       "    <tr>\n",
       "      <th>1120</th>\n",
       "      <td>28719</td>\n",
       "      <td>41</td>\n",
       "    </tr>\n",
       "    <tr>\n",
       "      <th>1426</th>\n",
       "      <td>36165</td>\n",
       "      <td>41</td>\n",
       "    </tr>\n",
       "    <tr>\n",
       "      <th>2095</th>\n",
       "      <td>52870</td>\n",
       "      <td>41</td>\n",
       "    </tr>\n",
       "    <tr>\n",
       "      <th>2468</th>\n",
       "      <td>61468</td>\n",
       "      <td>41</td>\n",
       "    </tr>\n",
       "    <tr>\n",
       "      <th>2469</th>\n",
       "      <td>61473</td>\n",
       "      <td>41</td>\n",
       "    </tr>\n",
       "    <tr>\n",
       "      <th>3141</th>\n",
       "      <td>78349</td>\n",
       "      <td>41</td>\n",
       "    </tr>\n",
       "    <tr>\n",
       "      <th>3300</th>\n",
       "      <td>82563</td>\n",
       "      <td>41</td>\n",
       "    </tr>\n",
       "    <tr>\n",
       "      <th>3712</th>\n",
       "      <td>92584</td>\n",
       "      <td>41</td>\n",
       "    </tr>\n",
       "  </tbody>\n",
       "</table>\n",
       "</div>"
      ],
      "text/plain": [
       "      client  success\n",
       "468    12179       41\n",
       "1120   28719       41\n",
       "1426   36165       41\n",
       "2095   52870       41\n",
       "2468   61468       41\n",
       "2469   61473       41\n",
       "3141   78349       41\n",
       "3300   82563       41\n",
       "3712   92584       41"
      ]
     },
     "execution_count": 168,
     "metadata": {},
     "output_type": "execute_result"
    }
   ],
   "source": [
    "successful_client = logs.groupby('client' , as_index = False).agg({'success':'sum'})\n",
    "max_succes = successful_client['success'].max()\n",
    "most_successful_client = successful_client[successful_client['success'] == max_succes]\n",
    "most_successful_client"
   ]
  },
  {
   "cell_type": "code",
   "execution_count": 170,
   "id": "d4ce0f88-1778-454a-9aed-d4989268b278",
   "metadata": {},
   "outputs": [
    {
     "name": "stdout",
     "output_type": "stream",
     "text": [
      "12179, 28719, 36165, 52870, 61468, 61473, 78349, 82563, 92584\n"
     ]
    }
   ],
   "source": [
    "client_who_are_successful = most_successful_client.client.sort_index()\n",
    "array_of_most_successful_client = client_who_are_successful.to_numpy()\n",
    "client_string = ', '.join(map(str, array_of_most_successful_client))\n",
    "print(client_string)"
   ]
  },
  {
   "cell_type": "code",
   "execution_count": 126,
   "id": "fdc99aa5-ed9f-4eac-9f0a-3c2c5fd6b2c9",
   "metadata": {},
   "outputs": [
    {
     "data": {
      "text/plain": [
       "'phone'"
      ]
     },
     "execution_count": 126,
     "metadata": {},
     "output_type": "execute_result"
    }
   ],
   "source": [
    "logs.loc[logs.success == True].platform.value_counts().idxmax()"
   ]
  },
  {
   "cell_type": "code",
   "execution_count": 172,
   "id": "1b17cb38-9f8d-4756-a2b4-38222d841dd3",
   "metadata": {},
   "outputs": [
    {
     "data": {
      "text/plain": [
       "'phone'"
      ]
     },
     "execution_count": 172,
     "metadata": {},
     "output_type": "execute_result"
    }
   ],
   "source": [
    "premium_client = user_data.merge(logs, how = 'inner', on = 'client')\n",
    "premium_client.loc[premium_client.premium  == True].platform.value_counts().idxmax()"
   ]
  },
  {
   "cell_type": "code",
   "execution_count": 174,
   "id": "a5c19155-79c9-409f-ab77-5ef7feef92c5",
   "metadata": {},
   "outputs": [
    {
     "data": {
      "image/png": "[encoded data removed]",
      "text/plain": [
       "<Figure size 584.875x500 with 1 Axes>"
      ]
     },
     "metadata": {},
     "output_type": "display_data"
    }
   ],
   "source": [
    "import seaborn as sns\n",
    "sns.displot(data = premium_client, x = 'age', \n",
    "            hue = 'premium', \n",
    "            kde = True, \n",
    "            kind ='hist', \n",
    "            stat ='density', \n",
    "            common_norm = False, \n",
    "            bins = 15)\n",
    "sns.despine()"
   ]
  }
 ],
 "metadata": {
  "kernelspec": {
   "display_name": "Python 3 (ipykernel)",
   "language": "python",
   "name": "python3"
  },
  "language_info": {
   "codemirror_mode": {
    "name": "ipython",
    "version": 3
   },
   "file_extension": ".py",
   "mimetype": "text/x-python",
   "name": "python",
   "nbconvert_exporter": "python",
   "pygments_lexer": "ipython3",
   "version": "3.12.4"
  }
 },
 "nbformat": 4,
 "nbformat_minor": 5
}
